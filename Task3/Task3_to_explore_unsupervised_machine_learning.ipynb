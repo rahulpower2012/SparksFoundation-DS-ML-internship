{
  "nbformat": 4,
  "nbformat_minor": 0,
  "metadata": {
    "colab": {
      "name": "Task3_to_explore_unsupervised_machine_learning.ipynb",
      "provenance": [],
      "authorship_tag": "ABX9TyNgQSON1TKTklMwCQc1Zq2W",
      "include_colab_link": true
    },
    "kernelspec": {
      "name": "python3",
      "display_name": "Python 3"
    }
  },
  "cells": [
    {
      "cell_type": "markdown",
      "metadata": {
        "id": "view-in-github",
        "colab_type": "text"
      },
      "source": [
        "<a href=\"https://colab.research.google.com/github/rahulpower2012/SparksFoundation-DS-ML-internship/blob/master/Task3/Task3_to_explore_unsupervised_machine_learning.ipynb\" target=\"_parent\"><img src=\"https://colab.research.google.com/assets/colab-badge.svg\" alt=\"Open In Colab\"/></a>"
      ]
    },
    {
      "cell_type": "markdown",
      "metadata": {
        "id": "btL2oa9N-P5B"
      },
      "source": [
        "# **TASK 3 for data science internship**"
      ]
    },
    {
      "cell_type": "code",
      "metadata": {
        "id": "RWLp_5XZ-IGP"
      },
      "source": [
        "import pandas as pd\n",
        "import matplotlib.pyplot as plt\n",
        "import numpy as np\n",
        "%matplotlib inline"
      ],
      "execution_count": 1,
      "outputs": []
    },
    {
      "cell_type": "markdown",
      "metadata": {
        "id": "qrwDsWeu-tUK"
      },
      "source": [
        "## Importing and plotting the data"
      ]
    },
    {
      "cell_type": "code",
      "metadata": {
        "id": "UIdcV5nh-rV7"
      },
      "source": [
        ""
      ],
      "execution_count": null,
      "outputs": []
    }
  ]
}