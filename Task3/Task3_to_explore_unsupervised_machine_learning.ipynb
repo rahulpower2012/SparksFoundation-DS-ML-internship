{
  "nbformat": 4,
  "nbformat_minor": 0,
  "metadata": {
    "colab": {
      "name": "Task3_to_explore_unsupervised_machine_learning.ipynb",
      "provenance": [],
      "collapsed_sections": [],
      "authorship_tag": "ABX9TyOhQg5rRK99f58sWSbf5nfK",
      "include_colab_link": true
    },
    "kernelspec": {
      "name": "python3",
      "display_name": "Python 3"
    }
  },
  "cells": [
    {
      "cell_type": "markdown",
      "metadata": {
        "id": "view-in-github",
        "colab_type": "text"
      },
      "source": [
        "<a href=\"https://colab.research.google.com/github/rahulpower2012/SparksFoundation-DS-ML-internship/blob/master/Task3/Task3_to_explore_unsupervised_machine_learning.ipynb\" target=\"_parent\"><img src=\"https://colab.research.google.com/assets/colab-badge.svg\" alt=\"Open In Colab\"/></a>"
      ]
    },
    {
      "cell_type": "markdown",
      "metadata": {
        "id": "btL2oa9N-P5B"
      },
      "source": [
        "# **TASK 3 for data science internship**"
      ]
    },
    {
      "cell_type": "code",
      "metadata": {
        "id": "RWLp_5XZ-IGP"
      },
      "source": [
        "import pandas as pd\n",
        "import matplotlib.pyplot as plt\n",
        "import numpy as np\n",
        "%matplotlib inline"
      ],
      "execution_count": 1,
      "outputs": []
    },
    {
      "cell_type": "markdown",
      "metadata": {
        "id": "qrwDsWeu-tUK"
      },
      "source": [
        "## Importing the data"
      ]
    },
    {
      "cell_type": "code",
      "metadata": {
        "id": "UIdcV5nh-rV7",
        "outputId": "381c0df9-9f4f-479d-bcd2-d30caf63a9c1",
        "colab": {
          "base_uri": "https://localhost:8080/",
          "height": 195
        }
      },
      "source": [
        "data_set = pd.read_csv(\"https://raw.githubusercontent.com/rahulpower2012/SparksFoundation-DS-ML-internship/master/Task3/Iris.csv\")\n",
        "X = data_set.iloc[:, [1, 2, 3, 4]].values\n",
        "pd.DataFrame(X).head()"
      ],
      "execution_count": 2,
      "outputs": [
        {
          "output_type": "execute_result",
          "data": {
            "text/html": [
              "<div>\n",
              "<style scoped>\n",
              "    .dataframe tbody tr th:only-of-type {\n",
              "        vertical-align: middle;\n",
              "    }\n",
              "\n",
              "    .dataframe tbody tr th {\n",
              "        vertical-align: top;\n",
              "    }\n",
              "\n",
              "    .dataframe thead th {\n",
              "        text-align: right;\n",
              "    }\n",
              "</style>\n",
              "<table border=\"1\" class=\"dataframe\">\n",
              "  <thead>\n",
              "    <tr style=\"text-align: right;\">\n",
              "      <th></th>\n",
              "      <th>0</th>\n",
              "      <th>1</th>\n",
              "      <th>2</th>\n",
              "      <th>3</th>\n",
              "    </tr>\n",
              "  </thead>\n",
              "  <tbody>\n",
              "    <tr>\n",
              "      <th>0</th>\n",
              "      <td>5.1</td>\n",
              "      <td>3.5</td>\n",
              "      <td>1.4</td>\n",
              "      <td>0.2</td>\n",
              "    </tr>\n",
              "    <tr>\n",
              "      <th>1</th>\n",
              "      <td>4.9</td>\n",
              "      <td>3.0</td>\n",
              "      <td>1.4</td>\n",
              "      <td>0.2</td>\n",
              "    </tr>\n",
              "    <tr>\n",
              "      <th>2</th>\n",
              "      <td>4.7</td>\n",
              "      <td>3.2</td>\n",
              "      <td>1.3</td>\n",
              "      <td>0.2</td>\n",
              "    </tr>\n",
              "    <tr>\n",
              "      <th>3</th>\n",
              "      <td>4.6</td>\n",
              "      <td>3.1</td>\n",
              "      <td>1.5</td>\n",
              "      <td>0.2</td>\n",
              "    </tr>\n",
              "    <tr>\n",
              "      <th>4</th>\n",
              "      <td>5.0</td>\n",
              "      <td>3.6</td>\n",
              "      <td>1.4</td>\n",
              "      <td>0.2</td>\n",
              "    </tr>\n",
              "  </tbody>\n",
              "</table>\n",
              "</div>"
            ],
            "text/plain": [
              "     0    1    2    3\n",
              "0  5.1  3.5  1.4  0.2\n",
              "1  4.9  3.0  1.4  0.2\n",
              "2  4.7  3.2  1.3  0.2\n",
              "3  4.6  3.1  1.5  0.2\n",
              "4  5.0  3.6  1.4  0.2"
            ]
          },
          "metadata": {
            "tags": []
          },
          "execution_count": 2
        }
      ]
    },
    {
      "cell_type": "markdown",
      "metadata": {
        "id": "dAasgiNHLwSR"
      },
      "source": [
        "## Finding optimal number of clusters using k-means and elbow method"
      ]
    },
    {
      "cell_type": "code",
      "metadata": {
        "id": "8_XsRucmAYpl",
        "outputId": "b7aa6fde-ebcc-42f4-cb14-347546f504dd",
        "colab": {
          "base_uri": "https://localhost:8080/",
          "height": 295
        }
      },
      "source": [
        "from sklearn.cluster import KMeans\n",
        "WCsum_of_squares=[]\n",
        "for i in range(1,11):\n",
        "  kmeans_clustering = KMeans(n_clusters=i,random_state=0)\n",
        "  kmeans_clustering.fit(X)\n",
        "  WCsum_of_squares.append(kmeans_clustering.inertia_)\n",
        "\n",
        "plt.title(\"Elbow method\")\n",
        "plt.plot(range(1,11),WCsum_of_squares)\n",
        "plt.xlabel(\"Number of clusters\")\n",
        "plt.ylabel(\"Within cluster sum of squares\")\n",
        "plt.show()"
      ],
      "execution_count": 3,
      "outputs": [
        {
          "output_type": "display_data",
          "data": {
            "image/png": "[encoded data removed]",
            "text/plain": [
              "<Figure size 432x288 with 1 Axes>"
            ]
          },
          "metadata": {
            "tags": [],
            "needs_background": "light"
          }
        }
      ]
    },
    {
      "cell_type": "markdown",
      "metadata": {
        "id": "DKqscmleLaoe"
      },
      "source": [
        "As we can see the elbow is formed at k=3 that is the value of within cluster sum of squares does not change significantly from k=3 that is number of clusters is 3"
      ]
    },
    {
      "cell_type": "code",
      "metadata": {
        "id": "30-ISebwCmNA"
      },
      "source": [
        "kmeans_with_optimal_clusters =KMeans(n_clusters=3,random_state=0)\n",
        "k_clusters = kmeans_with_optimal_clusters.fit(X)\n",
        "k_clusters = kmeans_with_optimal_clusters.predict(X)"
      ],
      "execution_count": 10,
      "outputs": []
    },
    {
      "cell_type": "markdown",
      "metadata": {
        "id": "7zYBLO4E8sTh"
      },
      "source": [
        "## Visualizing the Clusters"
      ]
    },
    {
      "cell_type": "code",
      "metadata": {
        "id": "sLDKhKa1MkLO",
        "outputId": "f401c2e5-ac3c-4143-adfb-df54a0e3e158",
        "colab": {
          "base_uri": "https://localhost:8080/",
          "height": 281
        }
      },
      "source": [
        "# Visualising the clusters - On the first two columns\n",
        "plt.scatter(X[k_clusters == 0, 0], X[k_clusters == 0, 1], s = 100, c = 'red', label = 'Iris-setosa')\n",
        "plt.scatter(X[k_clusters == 1, 0], X[k_clusters == 1, 1], s = 100, c = 'blue', label = 'Iris-versicolour')\n",
        "plt.scatter(X[k_clusters == 2, 0], X[k_clusters == 2, 1], s = 100, c = 'green', label = 'Iris-virginica')\n",
        "plt.scatter(kmeans_with_optimal_clusters.cluster_centers_[:, 0], kmeans_with_optimal_clusters.cluster_centers_[:,1], s = 100, c = 'yellow', label = 'Centroids')\n",
        "plt.title(\"Cluster separation\")\n",
        "plt.legend()\n",
        "plt.show()"
      ],
      "execution_count": 17,
      "outputs": [
        {
          "output_type": "display_data",
          "data": {
            "image/png": "[encoded data removed]",
            "text/plain": [
              "<Figure size 432x288 with 1 Axes>"
            ]
          },
          "metadata": {
            "tags": [],
            "needs_background": "light"
          }
        }
      ]
    },
    {
      "cell_type": "code",
      "metadata": {
        "id": "fXHhyTv5J8Pn"
      },
      "source": [
        ""
      ],
      "execution_count": 5,
      "outputs": []
    }
  ]
}